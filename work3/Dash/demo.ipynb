{
 "cells": [
  {
   "cell_type": "code",
   "execution_count": 1,
   "metadata": {},
   "outputs": [],
   "source": [
    "import pandas as pd"
   ]
  },
  {
   "cell_type": "code",
   "execution_count": 3,
   "metadata": {},
   "outputs": [],
   "source": [
    "df = pd.read_csv('time-series.csv')"
   ]
  },
  {
   "cell_type": "code",
   "execution_count": 4,
   "metadata": {},
   "outputs": [
    {
     "data": {
      "text/html": [
       "<div>\n",
       "<style scoped>\n",
       "    .dataframe tbody tr th:only-of-type {\n",
       "        vertical-align: middle;\n",
       "    }\n",
       "\n",
       "    .dataframe tbody tr th {\n",
       "        vertical-align: top;\n",
       "    }\n",
       "\n",
       "    .dataframe thead th {\n",
       "        text-align: right;\n",
       "    }\n",
       "</style>\n",
       "<table border=\"1\" class=\"dataframe\">\n",
       "  <thead>\n",
       "    <tr style=\"text-align: right;\">\n",
       "      <th></th>\n",
       "      <th>date</th>\n",
       "      <th>AAPL</th>\n",
       "      <th>MSFT</th>\n",
       "    </tr>\n",
       "  </thead>\n",
       "  <tbody>\n",
       "    <tr>\n",
       "      <th>0</th>\n",
       "      <td>2015-01-02</td>\n",
       "      <td>101.9635</td>\n",
       "      <td>42.5999</td>\n",
       "    </tr>\n",
       "    <tr>\n",
       "      <th>1</th>\n",
       "      <td>2015-01-05</td>\n",
       "      <td>99.0910</td>\n",
       "      <td>42.2036</td>\n",
       "    </tr>\n",
       "    <tr>\n",
       "      <th>2</th>\n",
       "      <td>2015-01-06</td>\n",
       "      <td>99.1003</td>\n",
       "      <td>41.5886</td>\n",
       "    </tr>\n",
       "    <tr>\n",
       "      <th>3</th>\n",
       "      <td>2015-01-07</td>\n",
       "      <td>100.4899</td>\n",
       "      <td>42.1170</td>\n",
       "    </tr>\n",
       "    <tr>\n",
       "      <th>4</th>\n",
       "      <td>2015-01-08</td>\n",
       "      <td>104.3510</td>\n",
       "      <td>43.3560</td>\n",
       "    </tr>\n",
       "  </tbody>\n",
       "</table>\n",
       "</div>"
      ],
      "text/plain": [
       "         date      AAPL     MSFT\n",
       "0  2015-01-02  101.9635  42.5999\n",
       "1  2015-01-05   99.0910  42.2036\n",
       "2  2015-01-06   99.1003  41.5886\n",
       "3  2015-01-07  100.4899  42.1170\n",
       "4  2015-01-08  104.3510  43.3560"
      ]
     },
     "execution_count": 4,
     "metadata": {},
     "output_type": "execute_result"
    }
   ],
   "source": [
    "df.head()"
   ]
  },
  {
   "cell_type": "code",
   "execution_count": 6,
   "metadata": {},
   "outputs": [
    {
     "data": {
      "text/plain": [
       "0       2015-01-02\n",
       "1       2015-01-05\n",
       "2       2015-01-06\n",
       "3       2015-01-07\n",
       "4       2015-01-08\n",
       "5       2015-01-09\n",
       "6       2015-01-12\n",
       "7       2015-01-13\n",
       "8       2015-01-14\n",
       "9       2015-01-15\n",
       "10      2015-01-16\n",
       "11      2015-01-20\n",
       "12      2015-01-21\n",
       "13      2015-01-22\n",
       "14      2015-01-23\n",
       "15      2015-01-26\n",
       "16      2015-01-27\n",
       "17      2015-01-28\n",
       "18      2015-01-29\n",
       "19      2015-01-30\n",
       "20      2015-02-02\n",
       "21      2015-02-03\n",
       "22      2015-02-04\n",
       "23      2015-02-05\n",
       "24      2015-02-06\n",
       "25      2015-02-09\n",
       "26      2015-02-10\n",
       "27      2015-02-11\n",
       "28      2015-02-12\n",
       "29      2015-02-13\n",
       "           ...    \n",
       "976     2018-11-15\n",
       "977     2018-11-16\n",
       "978     2018-11-19\n",
       "979     2018-11-20\n",
       "980     2018-11-21\n",
       "981     2018-11-23\n",
       "982     2018-11-26\n",
       "983     2018-11-27\n",
       "984     2018-11-28\n",
       "985     2018-11-29\n",
       "986     2018-11-30\n",
       "987     2018-12-03\n",
       "988     2018-12-04\n",
       "989     2018-12-06\n",
       "990     2018-12-07\n",
       "991     2018-12-10\n",
       "992     2018-12-11\n",
       "993     2018-12-12\n",
       "994     2018-12-13\n",
       "995     2018-12-14\n",
       "996     2018-12-17\n",
       "997     2018-12-18\n",
       "998     2018-12-19\n",
       "999     2018-12-20\n",
       "1000    2018-12-21\n",
       "1001    2018-12-24\n",
       "1002    2018-12-26\n",
       "1003    2018-12-27\n",
       "1004    2018-12-28\n",
       "1005    2018-12-31\n",
       "Name: date, Length: 1006, dtype: object"
      ]
     },
     "execution_count": 6,
     "metadata": {},
     "output_type": "execute_result"
    }
   ],
   "source": [
    "df['date']"
   ]
  },
  {
   "cell_type": "code",
   "execution_count": null,
   "metadata": {},
   "outputs": [],
   "source": []
  }
 ],
 "metadata": {
  "kernelspec": {
   "display_name": "Python 3",
   "language": "python",
   "name": "python3"
  },
  "language_info": {
   "codemirror_mode": {
    "name": "ipython",
    "version": 3
   },
   "file_extension": ".py",
   "mimetype": "text/x-python",
   "name": "python",
   "nbconvert_exporter": "python",
   "pygments_lexer": "ipython3",
   "version": "3.7.3"
  }
 },
 "nbformat": 4,
 "nbformat_minor": 2
}
